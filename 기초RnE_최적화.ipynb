{
  "cells": [
    {
      "cell_type": "code",
      "execution_count": null,
      "metadata": {
        "id": "n8uvfKSGGamJ"
      },
      "outputs": [],
      "source": [
        "import numpy as np\n",
        "import matplotlib.pyplot as plt\n",
        "from scipy.optimize import fmin_slsqp\n",
        "import math\n",
        "\n",
        "plt.rcParams['font.family'] = 'DejaVu Sans'"
      ]
    },
    {
      "cell_type": "code",
      "source": [],
      "metadata": {
        "id": "vo_f-0U6H15x"
      },
      "execution_count": null,
      "outputs": []
    },
    {
      "cell_type": "code",
      "execution_count": null,
      "metadata": {
        "id": "lIhfUKLrGfhp"
      },
      "outputs": [],
      "source": [
        "J = [{'tf' : [0.3, None, None, None, 0.2, None, None, None], 'pd' : [None, 0.1, None, 0.1]}, {'tf' : [None, None, None, None, 0.2, 0.1, None, None], 'pd' : []}, {'tf' : [None, None, 0.15, None, None, None, 0.1, None], 'pd' : [0.1, None, 0.1, None]}, {'tf' : [None, None, None, 0.05, None, None, None, 0.1], 'pd' : []}, {'tf' : [0.3, 0.15, None, None, None, None, None, None], 'pd' : []}]\n",
        "\n",
        "C = 1.87\n",
        "C_ped = [0.57,0.544,0.552,0.54]\n",
        "T_loss = 0.792\n",
        "T_loss_ped = [0.585,0.580,0.581,0.579]\n",
        "T = 180\n",
        "\n",
        "w = [8.21, 7.87, 7.97, 7.82]\n",
        "l = [38.3, 33.66, 37.77, 25.23]\n",
        "v = 0.85\n",
        "\n",
        "π = math.pi"
      ]
    },
    {
      "cell_type": "code",
      "execution_count": null,
      "metadata": {
        "id": "AJdC1KRzGh0g"
      },
      "outputs": [],
      "source": [
        " def EQGE(φ):\n",
        "  eqge = 0\n",
        "  for i, φi in enumerate(φ):\n",
        "    # 차량\n",
        "    for j in J[i]['tf']:\n",
        "      if j == None: continue\n",
        "      eqge += (j - C * (φi - T_loss / T))**2\n",
        "    # 보행자\n",
        "    for j, ji in enumerate(J[i]['pd']):\n",
        "      if ji == None: continue\n",
        "      eqge += (ji - C_ped[j] * (φi - T_loss_ped[j] / T))**2\n",
        "  return eqge\n",
        "\n",
        "def a(φ, i, j):\n",
        "  t = T * (1 - φ[i])\n",
        "  ji = J[i]['pd'][j]\n",
        "  return ((2 * π * ji * t + w[j]**2)**0.5 - w[j]) / π\n",
        "\n",
        "def safety(φ):\n",
        "  cons = []\n",
        "  bias = 0\n",
        "  for i, φi in enumerate(φ):\n",
        "    if  not J[i]['pd']: continue\n",
        "    for j, ji in enumerate(J[i]['pd']):\n",
        "      if ji == None: continue\n",
        "      ped = [φ[i] * T - (l[j] + a(φ, i, j))/v - bias]\n",
        "      cons += ped\n",
        "  return cons\n",
        "\n",
        "\n",
        "def sum_eq_1(φ):\n",
        "  return [sum(φ) - 1]\n",
        "\n",
        "def callback(x):\n",
        "    values.append(EQGE(x))"
      ]
    },
    {
      "cell_type": "code",
      "execution_count": null,
      "metadata": {
        "colab": {
          "base_uri": "https://localhost:8080/"
        },
        "id": "81VgXUDfGi92",
        "outputId": "0791eec9-720e-4a1c-ab59-b496df7d249c"
      },
      "outputs": [
        {
          "output_type": "stream",
          "name": "stdout",
          "text": [
            "Optimization terminated successfully    (Exit mode 0)\n",
            "            Current function value: 0.4880055836398572\n",
            "            Iterations: 6\n",
            "            Function evaluations: 38\n",
            "            Gradient evaluations: 6\n",
            "[0.22903319 0.17071168 0.25883065 0.13060365 0.21082082]\n",
            "[41.22597493 30.72810299 46.58951765 23.50865639 37.94774804]\n"
          ]
        }
      ],
      "source": [
        "φ0 = np.array([40/T, 35/T, 40/T, 25/T, 40/T])\n",
        "bounds = [(0, 1)] * np.size(φ0)\n",
        "\n",
        "# 최적화 경로와 목적 함수 값 저장\n",
        "values = []\n",
        "\n",
        "result = fmin_slsqp(EQGE, φ0, bounds=bounds, callback=callback, eqcons=[sum_eq_1], ieqcons=[safety], iter=100)\n",
        "\n",
        "print(result)\n",
        "print(result * T)"
      ]
    },
    {
      "cell_type": "code",
      "execution_count": null,
      "metadata": {
        "colab": {
          "base_uri": "https://localhost:8080/"
        },
        "id": "-HMWnyWFGk5G",
        "outputId": "47011388-c46c-402c-9a3b-96255db58a54"
      },
      "outputs": [
        {
          "output_type": "stream",
          "name": "stdout",
          "text": [
            "Step 0: Objective value = 0.8177085780416398\n",
            "Step 1: Objective value = 0.48949075135059283\n",
            "Step 2: Objective value = 0.4889339402792131\n",
            "Step 3: Objective value = 0.48837583759960035\n",
            "Step 4: Objective value = 0.4880055836398572\n",
            "Step 5: Objective value = 0.4880055836398572\n"
          ]
        }
      ],
      "source": [
        "for idx, value in enumerate(values):\n",
        "    print(f\"Step {idx}: Objective value = {value}\")"
      ]
    },
    {
      "cell_type": "code",
      "execution_count": null,
      "metadata": {
        "colab": {
          "base_uri": "https://localhost:8080/",
          "height": 472
        },
        "id": "yA_uXzREGlVu",
        "outputId": "b54870b2-23fb-4328-b6b2-4f6cc9507926"
      },
      "outputs": [
        {
          "output_type": "display_data",
          "data": {
            "text/plain": [
              "<Figure size 640x480 with 1 Axes>"
            ],
            "image/png": "[encoded data removed]"
          },
          "metadata": {}
        }
      ],
      "source": [
        "x = range(len(values))\n",
        "y = values\n",
        "\n",
        "plt.plot(x, y, marker='o')  # 꺽은선 그래프 그리기\n",
        "plt.title(\"Optimize EQGE\")  # 그래프 제목 설정\n",
        "plt.xlabel(\"Step\")  # x축 라벨 설정\n",
        "plt.ylabel(\"EQGE\")  # y축 라벨 설정\n",
        "plt.grid(True)  # 격자 표시\n",
        "\n",
        "plt.show()  # 그래프 보여주기"
      ]
    }
  ],
  "metadata": {
    "colab": {
      "provenance": []
    },
    "kernelspec": {
      "display_name": "Python 3",
      "name": "python3"
    },
    "language_info": {
      "name": "python"
    }
  },
  "nbformat": 4,
  "nbformat_minor": 0
}